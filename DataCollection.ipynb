{
 "cells": [
  {
   "cell_type": "markdown",
   "metadata": {},
   "source": [
    "# Air Quality Data Collection\n",
    "This notebook will be used to get the air quality data and clean the datasets, so we can use them for data analysis and making our model. The data will be collected using the dustmonitor API of TNO (https://ilm2.site.dustmonitoring.nl). "
   ]
  },
  {
   "cell_type": "code",
   "execution_count": 41,
   "metadata": {},
   "outputs": [
    {
     "name": "stdout",
     "output_type": "stream",
     "text": [
      "Pandas version: 2.2.3\n"
     ]
    }
   ],
   "source": [
    "import pandas as pd\n",
    "import os\n",
    "import requests\n",
    "import warnings\n",
    "\n",
    "from datetime import date\n",
    "from dateutil.relativedelta import relativedelta\n",
    "\n",
    "pd.set_option('display.max_columns', None)\n",
    "warnings.filterwarnings('ignore')\n",
    "\n",
    "print('Pandas version:', pd.__version__)"
   ]
  },
  {
   "cell_type": "code",
   "execution_count": 42,
   "metadata": {},
   "outputs": [],
   "source": [
    "# make new directory for data\n",
    "root_dir = os.path.join(\"data\")\n",
    "os.makedirs(root_dir, exist_ok=True)\n",
    "\n",
    "# save data from api\n",
    "data_dir = os.path.join(root_dir, 'api_data')\n",
    "os.makedirs(data_dir, exist_ok=True)"
   ]
  },
  {
   "cell_type": "markdown",
   "metadata": {},
   "source": [
    "Firts we will collect all the data we want from the dust monitoring API. We want to collect as much data starting in 2021, because that is when most sensors on the locations we have selected started collecting data. The data will be collected with a granularity of 1 day, with the average value of the day. The reason we have selected certain locations is because they are located in the centre of Eindhoven, near a green area or outside the centre."
   ]
  },
  {
   "cell_type": "code",
   "execution_count": 43,
   "metadata": {},
   "outputs": [],
   "source": [
    "def get_data(start: str, end: str, interval: int):\n",
    "    data = requests.get(\n",
    "        f\"https://ilm2.site.dustmonitoring.nl/download?from={start}&to={end}&interval={interval}&align=1&type=csv-semicolon&p=545&p=535&p=522&p=547&p=551&p=527&p=528&s=10&s=11&s=128&s=129&s=130&s=145&s=146\"\n",
    "    )\n",
    "\n",
    "    return data.text\n",
    "\n",
    "_date = date(2021, 1, 1)\n",
    "\n",
    "while True:\n",
    "    start_date = _date\n",
    "    end_date = _date + relativedelta(months=12)\n",
    "    interval = 86400\n",
    "    data = get_data(start_date.strftime(\"%Y-%m-%d\"), end_date.strftime(\"%Y-%m-%d\"), interval)\n",
    "\n",
    "    file_path = os.path.join(data_dir, f\"data_{start_date.strftime('%Y-%m-%d')}_{end_date.strftime('%Y-%m-%d')}.csv\")\n",
    "\n",
    "    with open(file_path, \"+w\") as f:\n",
    "        f.write(data)\n",
    "\n",
    "    _date = end_date\n",
    "    if _date > date(2024, 1, 2):\n",
    "        break"
   ]
  },
  {
   "cell_type": "markdown",
   "metadata": {},
   "source": [
    "The data needs to be formatted correctly so it is usable, we will remove the headers of the csv and set the correct columns."
   ]
  },
  {
   "cell_type": "code",
   "execution_count": 97,
   "metadata": {},
   "outputs": [],
   "source": [
    "csv_dir = os.path.join(root_dir, \"csv\")\n",
    "os.makedirs(csv_dir, exist_ok=True)\n",
    "\n",
    "dfs = []\n",
    "for file in os.listdir(data_dir):\n",
    "    file_path = os.path.join(data_dir, file)\n",
    "\n",
    "    if not os.path.isfile(file_path):\n",
    "        continue\n",
    "\n",
    "    df = pd.read_csv(file_path, index_col=False, sep=\";\")\n",
    "\n",
    "    header_string = df.iloc[:2].values\n",
    "    row_1 = [row.split(\".\")[0] for row in df.columns.tolist()]\n",
    "    row_2 = header_string[0]\n",
    "\n",
    "    new_columns = []\n",
    "    for row1, row2 in zip(row_1, row_2):\n",
    "        row1 = row1.replace(\"Unnamed: \", \"\")\n",
    "        new_columns.append(f\"{row1}-{row2}\")\n",
    "    \n",
    "    df = df.iloc[2:]\n",
    "\n",
    "    df.columns = new_columns\n",
    "\n",
    "    csv_file_path = os.path.join(csv_dir, file)\n",
    "    df.to_csv(csv_file_path, index=False, index_label=False)"
   ]
  },
  {
   "cell_type": "code",
   "execution_count": 98,
   "metadata": {},
   "outputs": [
    {
     "data": {
      "text/plain": [
       "(1425, 44)"
      ]
     },
     "execution_count": 98,
     "metadata": {},
     "output_type": "execute_result"
    }
   ],
   "source": [
    "df = []\n",
    "for file in os.listdir(csv_dir):\n",
    "    csv_file_path = os.path.join(csv_dir, file)\n",
    "    df = pd.read_csv(csv_file_path, index_col=False)\n",
    "    dfs.append(df)\n",
    "\n",
    "df = pd.concat(dfs, ignore_index=True)\n",
    "df.shape"
   ]
  },
  {
   "cell_type": "code",
   "execution_count": 99,
   "metadata": {},
   "outputs": [
    {
     "name": "stdout",
     "output_type": "stream",
     "text": [
      "['ï»¿-Tijd', '1-Tijd', 'I07-Lat', 'I07-Lon', 'I07-PM1', 'I07-PM2.5', 'I07-PM10', 'I07-NO2', 'I12-Lat', 'I12-Lon', 'I12-PM1', 'I12-PM2.5', 'I12-PM10', 'I12-NO2', 'I17-Lat', 'I17-Lon', 'I17-PM1', 'I17-PM2.5', 'I17-PM10', 'I17-NO2', 'I19-Lat', 'I19-Lon', 'I19-PM1', 'I19-PM2.5', 'I19-PM10', 'I19-NO2', 'I30-Lat', 'I30-Lon', 'I30-PM1', 'I30-PM2.5', 'I30-PM10', 'I30-NO2', 'I36-Lat', 'I36-Lon', 'I36-PM1', 'I36-PM2.5', 'I36-PM10', 'I36-NO2', 'I37-Lat', 'I37-Lon', 'I37-PM1', 'I37-PM2.5', 'I37-PM10', 'I37-NO2']\n"
     ]
    }
   ],
   "source": [
    "print(df.columns.tolist())"
   ]
  },
  {
   "cell_type": "markdown",
   "metadata": {},
   "source": [
    "Next we will split the dataframe by location, saving each location to a new csv. We will also drop the first column that contains the UTC time info, as we will only use the local time. The data will also be sorted by chronological order."
   ]
  },
  {
   "cell_type": "code",
   "execution_count": 100,
   "metadata": {},
   "outputs": [],
   "source": [
    "location_dir = os.path.join(root_dir, \"location\")\n",
    "os.makedirs(location_dir, exist_ok=True)\n",
    "\n",
    "for location in range(1, 40):\n",
    "    location = str(location)\n",
    "    if len(location) < 2:\n",
    "        location = '0' + location\n",
    "    \n",
    "    location_columns = df.columns[:2].to_list()\n",
    "    for col in df.columns:\n",
    "        if col.startswith(f'I{location}'):\n",
    "            location_columns.append(col)\n",
    "\n",
    "    if len(location_columns) > 2:\n",
    "        df_temp = df[location_columns]\n",
    "        df_temp = df_temp.drop(['ï»¿-Tijd'], axis=1, errors='ignore')\n",
    "        df_temp['1-Tijd'] = pd.to_datetime(df_temp['1-Tijd'])\n",
    "        df_temp = df_temp.sort_values(by='1-Tijd')\n",
    "\n",
    "        location_csv_path = os.path.join(location_dir, f\"I{location}.csv\")\n",
    "        df_temp.to_csv(location_csv_path, index=False, index_label=False)"
   ]
  },
  {
   "cell_type": "code",
   "execution_count": 101,
   "metadata": {},
   "outputs": [
    {
     "data": {
      "text/html": [
       "<div>\n",
       "<style scoped>\n",
       "    .dataframe tbody tr th:only-of-type {\n",
       "        vertical-align: middle;\n",
       "    }\n",
       "\n",
       "    .dataframe tbody tr th {\n",
       "        vertical-align: top;\n",
       "    }\n",
       "\n",
       "    .dataframe thead th {\n",
       "        text-align: right;\n",
       "    }\n",
       "</style>\n",
       "<table border=\"1\" class=\"dataframe\">\n",
       "  <thead>\n",
       "    <tr style=\"text-align: right;\">\n",
       "      <th></th>\n",
       "      <th>1-Tijd</th>\n",
       "      <th>I07-Lat</th>\n",
       "      <th>I07-Lon</th>\n",
       "      <th>I07-PM1</th>\n",
       "      <th>I07-PM2.5</th>\n",
       "      <th>I07-PM10</th>\n",
       "      <th>I07-NO2</th>\n",
       "    </tr>\n",
       "  </thead>\n",
       "  <tbody>\n",
       "    <tr>\n",
       "      <th>76</th>\n",
       "      <td>2021-03-18 01:00:00</td>\n",
       "      <td>51,4568</td>\n",
       "      <td>5,4382</td>\n",
       "      <td>4,75</td>\n",
       "      <td>5,41</td>\n",
       "      <td>9,10</td>\n",
       "      <td>17.0</td>\n",
       "    </tr>\n",
       "    <tr>\n",
       "      <th>86</th>\n",
       "      <td>2021-03-28 01:00:00</td>\n",
       "      <td>51,4568</td>\n",
       "      <td>5,4383</td>\n",
       "      <td>4,81</td>\n",
       "      <td>7,17</td>\n",
       "      <td>14,27</td>\n",
       "      <td>22.0</td>\n",
       "    </tr>\n",
       "    <tr>\n",
       "      <th>101</th>\n",
       "      <td>2021-04-12 02:00:00</td>\n",
       "      <td>51,4569</td>\n",
       "      <td>5,4383</td>\n",
       "      <td>2,03</td>\n",
       "      <td>2,73</td>\n",
       "      <td>6,66</td>\n",
       "      <td>NaN</td>\n",
       "    </tr>\n",
       "    <tr>\n",
       "      <th>16</th>\n",
       "      <td>2021-01-17 01:00:00</td>\n",
       "      <td>51,4568</td>\n",
       "      <td>5,4383</td>\n",
       "      <td>19,48</td>\n",
       "      <td>20,99</td>\n",
       "      <td>23,84</td>\n",
       "      <td>28.0</td>\n",
       "    </tr>\n",
       "    <tr>\n",
       "      <th>768</th>\n",
       "      <td>2023-02-04 01:00:00</td>\n",
       "      <td>51,4569</td>\n",
       "      <td>5,4384</td>\n",
       "      <td>5,56</td>\n",
       "      <td>8,05</td>\n",
       "      <td>15,40</td>\n",
       "      <td>15.0</td>\n",
       "    </tr>\n",
       "    <tr>\n",
       "      <th>1386</th>\n",
       "      <td>2024-10-12 02:00:00</td>\n",
       "      <td>51,4567</td>\n",
       "      <td>5,4381</td>\n",
       "      <td>4,06</td>\n",
       "      <td>4,99</td>\n",
       "      <td>8,96</td>\n",
       "      <td>23.0</td>\n",
       "    </tr>\n",
       "    <tr>\n",
       "      <th>895</th>\n",
       "      <td>2023-06-11 02:00:00</td>\n",
       "      <td>51,4568</td>\n",
       "      <td>5,4384</td>\n",
       "      <td>6,87</td>\n",
       "      <td>7,70</td>\n",
       "      <td>11,59</td>\n",
       "      <td>14.0</td>\n",
       "    </tr>\n",
       "    <tr>\n",
       "      <th>1302</th>\n",
       "      <td>2024-07-20 02:00:00</td>\n",
       "      <td>51,4568</td>\n",
       "      <td>5,4383</td>\n",
       "      <td>2,03</td>\n",
       "      <td>2,57</td>\n",
       "      <td>6,66</td>\n",
       "      <td>12.0</td>\n",
       "    </tr>\n",
       "    <tr>\n",
       "      <th>1266</th>\n",
       "      <td>2024-06-14 02:00:00</td>\n",
       "      <td>51,4569</td>\n",
       "      <td>5,4384</td>\n",
       "      <td>2,08</td>\n",
       "      <td>2,76</td>\n",
       "      <td>6,68</td>\n",
       "      <td>17.0</td>\n",
       "    </tr>\n",
       "    <tr>\n",
       "      <th>458</th>\n",
       "      <td>2022-04-02 02:00:00</td>\n",
       "      <td>51,4568</td>\n",
       "      <td>5,4383</td>\n",
       "      <td>4,06</td>\n",
       "      <td>4,71</td>\n",
       "      <td>7,81</td>\n",
       "      <td>14.0</td>\n",
       "    </tr>\n",
       "    <tr>\n",
       "      <th>354</th>\n",
       "      <td>2021-12-21 01:00:00</td>\n",
       "      <td>51,4567</td>\n",
       "      <td>5,4382</td>\n",
       "      <td>8,78</td>\n",
       "      <td>12,67</td>\n",
       "      <td>21,40</td>\n",
       "      <td>26.0</td>\n",
       "    </tr>\n",
       "    <tr>\n",
       "      <th>776</th>\n",
       "      <td>2023-02-12 01:00:00</td>\n",
       "      <td>51,4569</td>\n",
       "      <td>5,4385</td>\n",
       "      <td>21,56</td>\n",
       "      <td>25,70</td>\n",
       "      <td>32,82</td>\n",
       "      <td>20.0</td>\n",
       "    </tr>\n",
       "    <tr>\n",
       "      <th>1218</th>\n",
       "      <td>2024-04-27 02:00:00</td>\n",
       "      <td>51,4567</td>\n",
       "      <td>5,4382</td>\n",
       "      <td>5,09</td>\n",
       "      <td>5,95</td>\n",
       "      <td>10,04</td>\n",
       "      <td>15.0</td>\n",
       "    </tr>\n",
       "    <tr>\n",
       "      <th>842</th>\n",
       "      <td>2023-04-19 02:00:00</td>\n",
       "      <td>51,4569</td>\n",
       "      <td>5,4384</td>\n",
       "      <td>13,32</td>\n",
       "      <td>14,31</td>\n",
       "      <td>17,42</td>\n",
       "      <td>19.0</td>\n",
       "    </tr>\n",
       "    <tr>\n",
       "      <th>800</th>\n",
       "      <td>2023-03-08 01:00:00</td>\n",
       "      <td>51,4567</td>\n",
       "      <td>5,4384</td>\n",
       "      <td>4,25</td>\n",
       "      <td>4,54</td>\n",
       "      <td>6,69</td>\n",
       "      <td>17.0</td>\n",
       "    </tr>\n",
       "  </tbody>\n",
       "</table>\n",
       "</div>"
      ],
      "text/plain": [
       "                   1-Tijd  I07-Lat I07-Lon I07-PM1 I07-PM2.5 I07-PM10  I07-NO2\n",
       "76    2021-03-18 01:00:00  51,4568  5,4382    4,75      5,41     9,10     17.0\n",
       "86    2021-03-28 01:00:00  51,4568  5,4383    4,81      7,17    14,27     22.0\n",
       "101   2021-04-12 02:00:00  51,4569  5,4383    2,03      2,73     6,66      NaN\n",
       "16    2021-01-17 01:00:00  51,4568  5,4383   19,48     20,99    23,84     28.0\n",
       "768   2023-02-04 01:00:00  51,4569  5,4384    5,56      8,05    15,40     15.0\n",
       "1386  2024-10-12 02:00:00  51,4567  5,4381    4,06      4,99     8,96     23.0\n",
       "895   2023-06-11 02:00:00  51,4568  5,4384    6,87      7,70    11,59     14.0\n",
       "1302  2024-07-20 02:00:00  51,4568  5,4383    2,03      2,57     6,66     12.0\n",
       "1266  2024-06-14 02:00:00  51,4569  5,4384    2,08      2,76     6,68     17.0\n",
       "458   2022-04-02 02:00:00  51,4568  5,4383    4,06      4,71     7,81     14.0\n",
       "354   2021-12-21 01:00:00  51,4567  5,4382    8,78     12,67    21,40     26.0\n",
       "776   2023-02-12 01:00:00  51,4569  5,4385   21,56     25,70    32,82     20.0\n",
       "1218  2024-04-27 02:00:00  51,4567  5,4382    5,09      5,95    10,04     15.0\n",
       "842   2023-04-19 02:00:00  51,4569  5,4384   13,32     14,31    17,42     19.0\n",
       "800   2023-03-08 01:00:00  51,4567  5,4384    4,25      4,54     6,69     17.0"
      ]
     },
     "execution_count": 101,
     "metadata": {},
     "output_type": "execute_result"
    }
   ],
   "source": [
    "# sample of one of the location datasets\n",
    "df_test = pd.read_csv('./data/location/I07.csv')\n",
    "df_test.sample(15)"
   ]
  }
 ],
 "metadata": {
  "kernelspec": {
   "display_name": "Python 3",
   "language": "python",
   "name": "python3"
  },
  "language_info": {
   "codemirror_mode": {
    "name": "ipython",
    "version": 3
   },
   "file_extension": ".py",
   "mimetype": "text/x-python",
   "name": "python",
   "nbconvert_exporter": "python",
   "pygments_lexer": "ipython3",
   "version": "3.12.6"
  }
 },
 "nbformat": 4,
 "nbformat_minor": 2
}
